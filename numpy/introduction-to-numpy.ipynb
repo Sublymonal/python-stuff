{
 "cells": [
  {
   "cell_type": "code",
   "execution_count": 1,
   "id": "4db43aca-25f0-4dea-8320-4c65edd608fb",
   "metadata": {},
   "outputs": [],
   "source": [
    "import numpy as np"
   ]
  },
  {
   "cell_type": "markdown",
   "id": "e610074d-f083-4fcd-a8c3-4d1897afa95b",
   "metadata": {},
   "source": [
    "## Datatypes and Attributes"
   ]
  },
  {
   "cell_type": "code",
   "execution_count": 2,
   "id": "8bf1620c-5a5b-4f60-8c3b-ae3b66bc960d",
   "metadata": {},
   "outputs": [],
   "source": [
    "# Numpy's main datatype is ndarray\n",
    "arr1 = np.array([1,2,3])"
   ]
  },
  {
   "cell_type": "code",
   "execution_count": 3,
   "id": "4b9cc08f-8a40-4e5a-bdfd-49c7b8ffbe5a",
   "metadata": {},
   "outputs": [
    {
     "data": {
      "text/plain": [
       "array([1, 2, 3])"
      ]
     },
     "execution_count": 3,
     "metadata": {},
     "output_type": "execute_result"
    }
   ],
   "source": [
    "arr1 #this is a vector"
   ]
  },
  {
   "cell_type": "code",
   "execution_count": 4,
   "id": "3b72702d-19ea-46c8-b9d0-aba177a9e9ff",
   "metadata": {},
   "outputs": [
    {
     "data": {
      "text/plain": [
       "numpy.ndarray"
      ]
     },
     "execution_count": 4,
     "metadata": {},
     "output_type": "execute_result"
    }
   ],
   "source": [
    "type(arr1)"
   ]
  },
  {
   "cell_type": "code",
   "execution_count": 5,
   "id": "acbfbacf-02ba-4e4d-84af-d2970eca6035",
   "metadata": {},
   "outputs": [],
   "source": [
    "arr2  = np.array([[1,2,3],\n",
    "                  [4,5,6]])"
   ]
  },
  {
   "cell_type": "code",
   "execution_count": 6,
   "id": "785a4be6-e801-48fe-b556-43a98fdb4c5d",
   "metadata": {},
   "outputs": [
    {
     "data": {
      "text/plain": [
       "array([[1, 2, 3],\n",
       "       [4, 5, 6]])"
      ]
     },
     "execution_count": 6,
     "metadata": {},
     "output_type": "execute_result"
    }
   ],
   "source": [
    "arr2 #this is a matrix"
   ]
  },
  {
   "cell_type": "code",
   "execution_count": 22,
   "id": "616b3c42-7430-4340-92e2-2b6f93d2ce0f",
   "metadata": {},
   "outputs": [],
   "source": [
    "arr3 = np.array([[[1,2,3],\n",
    "                  [4,5,6],\n",
    "                  [7,8,9]],\n",
    "                 \n",
    "                 [[10,11,12],\n",
    "                  [13,14,15],\n",
    "                  [16,17,18]]])"
   ]
  },
  {
   "cell_type": "code",
   "execution_count": 10,
   "id": "bdc5cd52-1422-4964-9f33-02e5104bf281",
   "metadata": {},
   "outputs": [
    {
     "data": {
      "text/plain": [
       "array([[[ 1,  2,  3],\n",
       "        [ 4,  5,  6],\n",
       "        [ 7,  8,  9]],\n",
       "\n",
       "       [[10, 11, 12],\n",
       "        [13, 14, 15],\n",
       "        [16, 17, 18]]])"
      ]
     },
     "execution_count": 10,
     "metadata": {},
     "output_type": "execute_result"
    }
   ],
   "source": [
    "arr3"
   ]
  },
  {
   "attachments": {},
   "cell_type": "markdown",
   "id": "e283c7cd-cb4f-4b6c-818c-e5fae6e4af75",
   "metadata": {},
   "source": [
    "# Visual detail\n",
    "![](anatomy-np-arr.png)"
   ]
  },
  {
   "cell_type": "code",
   "execution_count": 14,
   "id": "448c31ce-a356-4f52-976a-4f476f89b212",
   "metadata": {},
   "outputs": [
    {
     "data": {
      "text/plain": [
       "(3,)"
      ]
     },
     "execution_count": 14,
     "metadata": {},
     "output_type": "execute_result"
    }
   ],
   "source": [
    "arr1.shape\n",
    "#3 indexes"
   ]
  },
  {
   "cell_type": "code",
   "execution_count": null,
   "id": "8ef9d7fb-0b40-429c-8862-f24a66748ab6",
   "metadata": {},
   "outputs": [],
   "source": [
    "arr2.shape\n",
    "#2 rows 3 columns"
   ]
  },
  {
   "cell_type": "code",
   "execution_count": 11,
   "id": "a204e9f0-2a71-47e8-9890-325d4a09ac0d",
   "metadata": {},
   "outputs": [
    {
     "data": {
      "text/plain": [
       "(2, 3, 3)"
      ]
     },
     "execution_count": 11,
     "metadata": {},
     "output_type": "execute_result"
    }
   ],
   "source": [
    "arr3.shape\n",
    "#2 dimensions 3 rows 3 columns"
   ]
  },
  {
   "cell_type": "code",
   "execution_count": 15,
   "id": "74e67af5-2d2a-4918-906a-68e7e55e1747",
   "metadata": {},
   "outputs": [
    {
     "data": {
      "text/plain": [
       "(1, 2, 3)"
      ]
     },
     "execution_count": 15,
     "metadata": {},
     "output_type": "execute_result"
    }
   ],
   "source": [
    "#to see how many dimensions\n",
    "arr1.ndim, arr2.ndim, arr3.ndim"
   ]
  },
  {
   "cell_type": "code",
   "execution_count": 21,
   "id": "86bd4206-c41c-4d7d-b87e-6683ee1ef52b",
   "metadata": {},
   "outputs": [
    {
     "data": {
      "text/plain": [
       "(dtype('int64'), dtype('int64'), dtype('float64'))"
      ]
     },
     "execution_count": 21,
     "metadata": {},
     "output_type": "execute_result"
    }
   ],
   "source": [
    "#to see the datatype of the array\n",
    "arr1.dtype, arr2.dtype, arr3.dtype"
   ]
  },
  {
   "cell_type": "code",
   "execution_count": 23,
   "id": "0efbfe76-bc87-4338-8403-31b4d12e0d15",
   "metadata": {},
   "outputs": [
    {
     "data": {
      "text/plain": [
       "(3, 6, 18)"
      ]
     },
     "execution_count": 23,
     "metadata": {},
     "output_type": "execute_result"
    }
   ],
   "source": [
    "#see how many elements are in the array\n",
    "arr1.size, arr2.size, arr3.size"
   ]
  },
  {
   "cell_type": "markdown",
   "id": "35d8ec49-bf92-42cb-9cf9-c2518cf2b685",
   "metadata": {},
   "source": [
    "## Introduce pandas"
   ]
  },
  {
   "cell_type": "code",
   "execution_count": 24,
   "id": "d9454b54-5956-4858-8d2a-c9bcaa6b375a",
   "metadata": {},
   "outputs": [],
   "source": [
    "import pandas as pd"
   ]
  },
  {
   "cell_type": "code",
   "execution_count": 28,
   "id": "feed8b8b-ee66-4544-a133-d84de5fcdc6c",
   "metadata": {},
   "outputs": [
    {
     "data": {
      "text/html": [
       "<div>\n",
       "<style scoped>\n",
       "    .dataframe tbody tr th:only-of-type {\n",
       "        vertical-align: middle;\n",
       "    }\n",
       "\n",
       "    .dataframe tbody tr th {\n",
       "        vertical-align: top;\n",
       "    }\n",
       "\n",
       "    .dataframe thead th {\n",
       "        text-align: right;\n",
       "    }\n",
       "</style>\n",
       "<table border=\"1\" class=\"dataframe\">\n",
       "  <thead>\n",
       "    <tr style=\"text-align: right;\">\n",
       "      <th></th>\n",
       "      <th>0</th>\n",
       "      <th>1</th>\n",
       "      <th>2</th>\n",
       "    </tr>\n",
       "  </thead>\n",
       "  <tbody>\n",
       "    <tr>\n",
       "      <th>0</th>\n",
       "      <td>1</td>\n",
       "      <td>2</td>\n",
       "      <td>3</td>\n",
       "    </tr>\n",
       "    <tr>\n",
       "      <th>1</th>\n",
       "      <td>4</td>\n",
       "      <td>5</td>\n",
       "      <td>6</td>\n",
       "    </tr>\n",
       "  </tbody>\n",
       "</table>\n",
       "</div>"
      ],
      "text/plain": [
       "   0  1  2\n",
       "0  1  2  3\n",
       "1  4  5  6"
      ]
     },
     "execution_count": 28,
     "metadata": {},
     "output_type": "execute_result"
    }
   ],
   "source": [
    "#create a data frame from a Numpy arr\n",
    "df = pd.DataFrame(arr2)\n",
    "df"
   ]
  },
  {
   "cell_type": "code",
   "execution_count": null,
   "id": "831d9124-ccbb-4893-937d-a086176440cd",
   "metadata": {},
   "outputs": [],
   "source": []
  }
 ],
 "metadata": {
  "kernelspec": {
   "display_name": "Python 3 (ipykernel)",
   "language": "python",
   "name": "python3"
  },
  "language_info": {
   "codemirror_mode": {
    "name": "ipython",
    "version": 3
   },
   "file_extension": ".py",
   "mimetype": "text/x-python",
   "name": "python",
   "nbconvert_exporter": "python",
   "pygments_lexer": "ipython3",
   "version": "3.12.2"
  }
 },
 "nbformat": 4,
 "nbformat_minor": 5
}
